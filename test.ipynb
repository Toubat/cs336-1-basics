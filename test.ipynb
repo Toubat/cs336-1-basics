{
 "cells": [
  {
   "cell_type": "code",
   "execution_count": null,
   "id": "3687baaf",
   "metadata": {},
   "outputs": [],
   "source": [
    "print(\"this is a test\" + chr(0) + \"string\")"
   ]
  },
  {
   "cell_type": "code",
   "execution_count": null,
   "id": "30e0938d",
   "metadata": {},
   "outputs": [],
   "source": [
    "test_string = \"hello! こんにちは!\"\n",
    "utf8_encoded = test_string.encode(\"utf-8\")\n",
    "print(utf8_encoded)\n",
    "print(type(utf8_encoded))\n",
    "list(utf8_encoded)\n",
    "\n",
    "print(len(test_string))\n",
    "print(len(utf8_encoded))\n",
    "\n",
    "print(utf8_encoded.decode(\"utf-8\"))"
   ]
  },
  {
   "cell_type": "code",
   "execution_count": null,
   "id": "bcd7b734",
   "metadata": {},
   "outputs": [],
   "source": [
    "import regex as re\n",
    "\n",
    "\n",
    "PAT = r\"\"\"'(?:[sdmt]|ll|ve|re)| ?\\p{L}+| ?\\p{N}+| ?[^\\s\\p{L}\\p{N}]+|\\s+(?!\\S)|\\s+\"\"\"\n",
    "\n",
    "re.findall(PAT, \"some text that i'll pre-tokenize\")"
   ]
  },
  {
   "cell_type": "code",
   "execution_count": null,
   "id": "cb975e0f",
   "metadata": {},
   "outputs": [],
   "source": [
    "for match in re.finditer(PAT, \"some text that i'll pre-tokenize\"):\n",
    "    print(f'\"{match.group()}\"')\n"
   ]
  },
  {
   "cell_type": "code",
   "execution_count": null,
   "id": "f82b09e9",
   "metadata": {},
   "outputs": [],
   "source": [
    "from cs336_basics.bpe.utils import PAT\n",
    "import regex as re\n",
    "\n",
    "text = \"\"\"\n",
    "```py\n",
    "from cs336_basics.bpe.utils import PAT\n",
    "import regex as re\n",
    "\n",
    "for match in re.finditer(PAT, \"some text that i'll pre-tokenize\"):\n",
    "    print(f'\"{match.group()}\"')\n",
    "```\n",
    "\n",
    "\"\"\"\n",
    "\n",
    "for match in re.finditer(PAT, text):\n",
    "    print(f'\"{match.group()}\"')\n"
   ]
  },
  {
   "cell_type": "code",
   "execution_count": null,
   "id": "0b59890a",
   "metadata": {},
   "outputs": [],
   "source": [
    "from cs336_basics.bpe.utils import find_chunk_boundaries\n",
    "\n",
    "\n",
    "with open(\"data/TinyStoriesV2-GPT4-valid.txt\", \"rb\") as f:\n",
    "    num_processes = 16000\n",
    "    boundaries = find_chunk_boundaries(f, num_processes, b\"<|endoftext|>\")\n",
    "\n",
    "    # The following is a serial implementation, but you can parallelize this\n",
    "    # by sending each start/end pair to a set of processes.\n",
    "    for start, end in zip(boundaries[:-1], boundaries[1:]):\n",
    "        f.seek(start)\n",
    "        chunk = f.read(end - start).decode(\"utf-8\", errors=\"ignore\")\n",
    "        # Run pre-tokenization on your chunk and store the counts for each pre-token\n",
    "        print(chunk)\n",
    "        print(\"-\" * 100)"
   ]
  },
  {
   "cell_type": "code",
   "execution_count": null,
   "id": "83e417a9",
   "metadata": {},
   "outputs": [],
   "source": []
  }
 ],
 "metadata": {
  "kernelspec": {
   "display_name": ".venv",
   "language": "python",
   "name": "python3"
  },
  "language_info": {
   "codemirror_mode": {
    "name": "ipython",
    "version": 3
   },
   "file_extension": ".py",
   "mimetype": "text/x-python",
   "name": "python",
   "nbconvert_exporter": "python",
   "pygments_lexer": "ipython3",
   "version": "3.12.10"
  }
 },
 "nbformat": 4,
 "nbformat_minor": 5
}
