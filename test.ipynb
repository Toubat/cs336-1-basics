{
 "cells": [
  {
   "cell_type": "code",
   "execution_count": null,
   "id": "ec012ca4",
   "metadata": {},
   "outputs": [],
   "source": [
    "from cs336_basics.bpe.tokenizer import Tokenizer\n",
    "\n",
    "ts_tokenizer = Tokenizer.from_file(\n",
    "    \"./outputs/tinystories_vocab.json\",\n",
    "    \"./outputs/tinystories_merges.txt\",\n",
    "    [\"<|endoftext|>\"],\n",
    ")\n",
    "\n",
    "owt_tokenizer = Tokenizer.from_file(\n",
    "    \"./outputs/owt_vocab.json\",\n",
    "    \"./outputs/owt_merges.txt\",\n",
    "    [\"<|endoftext|>\"],\n",
    ")"
   ]
  },
  {
   "cell_type": "code",
   "execution_count": null,
   "id": "19509861",
   "metadata": {},
   "outputs": [],
   "source": [
    "import os\n",
    "\n",
    "\n",
    "def calc_compression_ratio(tokenizer: Tokenizer, file_path: str):\n",
    "    with open(file_path) as f:\n",
    "        num_tokens = len(list(tokenizer.encode_iterable(f)))\n",
    "        num_bytes = os.stat(file_path).st_size\n",
    "        print(f\"Number of tokens in {file_path}: {num_tokens}\")\n",
    "        print(f\"Number of bytes in {file_path}: {num_bytes}\")\n",
    "        print(f\"Token compression ratio: {num_bytes / num_tokens}\")\n",
    "\n",
    "\n",
    "calc_compression_ratio(ts_tokenizer, \"./data/TinyStoriesV2-GPT4-valid.txt\")\n",
    "calc_compression_ratio(owt_tokenizer, \"./data/owt_valid.txt\")\n",
    "# Number of tokens in ./data/TinyStoriesV2-GPT4-valid.txt: 5461210\n",
    "# Number of bytes in ./data/TinyStoriesV2-GPT4-valid.txt: 22502601\n",
    "# Token compression ratio: 4.120442356181139\n",
    "# Number of tokens in ./data/owt_valid.txt: 75104112\n",
    "# Number of bytes in ./data/owt_valid.txt: 289998753\n",
    "# Token compression ratio: 3.861289951740592"
   ]
  },
  {
   "cell_type": "code",
   "execution_count": null,
   "id": "9dae48eb",
   "metadata": {},
   "outputs": [],
   "source": []
  }
 ],
 "metadata": {
  "kernelspec": {
   "display_name": ".venv",
   "language": "python",
   "name": "python3"
  },
  "language_info": {
   "codemirror_mode": {
    "name": "ipython",
    "version": 3
   },
   "file_extension": ".py",
   "mimetype": "text/x-python",
   "name": "python",
   "nbconvert_exporter": "python",
   "pygments_lexer": "ipython3",
   "version": "3.12.10"
  }
 },
 "nbformat": 4,
 "nbformat_minor": 5
}
